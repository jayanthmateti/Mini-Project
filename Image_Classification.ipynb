{
  "nbformat": 4,
  "nbformat_minor": 0,
  "metadata": {
    "colab": {
      "name": "Image Classification.ipynb",
      "provenance": [],
      "authorship_tag": "ABX9TyONsX+ZmZNXADeMyWafopFl",
      "include_colab_link": true
    },
    "kernelspec": {
      "name": "python3",
      "display_name": "Python 3"
    },
    "language_info": {
      "name": "python"
    }
  },
  "cells": [
    {
      "cell_type": "markdown",
      "metadata": {
        "id": "view-in-github",
        "colab_type": "text"
      },
      "source": [
        "<a href=\"https://colab.research.google.com/github/jayanthmateti/Mini-Project/blob/main/Image_Classification.ipynb\" target=\"_parent\"><img src=\"https://colab.research.google.com/assets/colab-badge.svg\" alt=\"Open In Colab\"/></a>"
      ]
    },
    {
      "cell_type": "code",
      "metadata": {
        "colab": {
          "base_uri": "https://localhost:8080/"
        },
        "id": "bTuH0b5Fp2t8",
        "outputId": "5f285ac4-9807-424b-b11b-1756e864972c"
      },
      "source": [
        "!pip install bing-image-downloader"
      ],
      "execution_count": null,
      "outputs": [
        {
          "output_type": "stream",
          "text": [
            "Collecting bing-image-downloader\n",
            "  Downloading https://files.pythonhosted.org/packages/c2/04/1872a689a30036aa0b81ac9fca124a7413cad71fdab714f727cf1a34b671/bing_image_downloader-1.1.1-py3-none-any.whl\n",
            "Installing collected packages: bing-image-downloader\n",
            "Successfully installed bing-image-downloader-1.1.1\n"
          ],
          "name": "stdout"
        }
      ]
    },
    {
      "cell_type": "code",
      "metadata": {
        "id": "HloWI8zXtG84"
      },
      "source": [
        "!mkdir images"
      ],
      "execution_count": null,
      "outputs": []
    },
    {
      "cell_type": "code",
      "metadata": {
        "colab": {
          "base_uri": "https://localhost:8080/"
        },
        "id": "26TTu2FRtJjL",
        "outputId": "c89ca447-ba64-4ac0-e713-456fa9f7339a"
      },
      "source": [
        "from bing_image_downloader import downloader\n",
        "downloader.download(\"truck\",limit=50,output_dir=\"images\",adult_filter_off=True)"
      ],
      "execution_count": null,
      "outputs": [
        {
          "output_type": "stream",
          "text": [
            "[%] Downloading Images to /content/images/truck\n",
            "\n",
            "\n",
            "[!!]Indexing page: 1\n",
            "\n",
            "[%] Indexed 50 Images on Page 1.\n",
            "\n",
            "===============================================\n",
            "\n",
            "[%] Downloading Image #1 from http://smclassiccars.com/uploads/postfotos/1968-international-harvester-44-345-4sd-truck-true-barn-find-1.jpg\n",
            "[%] File Downloaded !\n",
            "\n",
            "[%] Downloading Image #2 from https://100hotcars.info/wp-content/uploads/2019/11/fiats-new-toro-sports-pickup-truck-shows-its-true-face-in-official-photo.jpg\n",
            "[%] File Downloaded !\n",
            "\n",
            "[%] Downloading Image #3 from http://monster-trucks-for-sale.com/wp-content/monster-trucks-for-sale.com/2017/05/true-head-turner-1970-international-harvester-scout-monster-truck-for-sale-2017-05-19-1.jpg\n",
            "[%] File Downloaded !\n",
            "\n",
            "[%] Downloading Image #4 from https://www.ford-trucks.com/wp-content/uploads/2017/04/TrueDetectiveF150-2.jpeg\n",
            "[%] File Downloaded !\n",
            "\n",
            "[%] Downloading Image #5 from http://www.indiewire.com/wp-content/uploads/2017/04/screen-shot-2017-04-17-at-08-34-41.png?w=780\n",
            "[%] File Downloaded !\n",
            "\n",
            "[%] Downloading Image #6 from https://car-from-uk.com/ebay/carphotos/full/ebay874572.jpg\n",
            "[!] Issue getting: https://car-from-uk.com/ebay/carphotos/full/ebay874572.jpg\n",
            "[!] Error:: <urlopen error [SSL: CERTIFICATE_VERIFY_FAILED] certificate verify failed: unable to get local issuer certificate (_ssl.c:1091)>\n",
            "[%] Downloading Image #6 from https://images.hgmsites.net/lrg/rtech-fabrications-ponderosa_100713911_l.jpg\n",
            "[%] File Downloaded !\n",
            "\n",
            "[%] Downloading Image #7 from https://www.ontrackrc.com.au/assets/full/PR3461-00.jpg?20190429224515\n",
            "[%] File Downloaded !\n",
            "\n",
            "[%] Downloading Image #8 from https://cdn.vehicleservicepros.com/files/base/cygnus/vspc/image/2015/05/960w/tco___gm_pickup.5551182e5793f.jpg\n",
            "[%] File Downloaded !\n",
            "\n",
            "[%] Downloading Image #9 from https://coolmaterial.com/wp-content/uploads/2017/04/Own-Matthew-McConaugheys-Truck-From-True-Detective-2.jpg\n",
            "[%] File Downloaded !\n",
            "\n",
            "[%] Downloading Image #10 from https://img.sm360.ca/ir/w1024h768/images/inventory/true-north-chevrolet-cadillac-ltd/chevrolet-truck/silverado-1500/2015/6153635/6153635_05187_2015-chevrolet-truck-silverado-1500_001.jpg\n",
            "[%] File Downloaded !\n",
            "\n",
            "[%] Downloading Image #11 from https://www.whiskeyriff.com/wp-content/uploads/2017/04/original-1.jpeg\n",
            "[%] File Downloaded !\n",
            "\n",
            "[%] Downloading Image #12 from https://tfltruck.com/wp-content/uploads/2019/12/rsw-400cg-true.jpeg\n",
            "[Error]Invalid image, not saving https://tfltruck.com/wp-content/uploads/2019/12/rsw-400cg-true.jpeg\n",
            "\n",
            "[!] Issue getting: https://tfltruck.com/wp-content/uploads/2019/12/rsw-400cg-true.jpeg\n",
            "[!] Error:: Invalid image, not saving https://tfltruck.com/wp-content/uploads/2019/12/rsw-400cg-true.jpeg\n",
            "\n",
            "[%] Downloading Image #12 from https://cdn.now.howstuffworks.com/media-content/aa3a529d-6780-4224-822e-b1069035e3bf-1210-680.jpg\n",
            "[%] File Downloaded !\n",
            "\n",
            "[%] Downloading Image #13 from https://www.mytruemiles.com/wp-content/uploads/2015/09/shutterstock_37455742-540x540.jpg\n",
            "[%] File Downloaded !\n",
            "\n",
            "[%] Downloading Image #14 from https://www.trucksnl.com/pictures/ad-6363422-0c85f06b01960741/tow_recovery_truck_scania_r560_la6x2hna_rescue_truck_triple_k_true_tilt_2011_6363422-2.jpg?format=jpg&amp;quality=70&amp;w=1110&amp;h=832\n",
            "[Error]Invalid image, not saving https://www.trucksnl.com/pictures/ad-6363422-0c85f06b01960741/tow_recovery_truck_scania_r560_la6x2hna_rescue_truck_triple_k_true_tilt_2011_6363422-2.jpg?format=jpg&amp;quality=70&amp;w=1110&amp;h=832\n",
            "\n",
            "[!] Issue getting: https://www.trucksnl.com/pictures/ad-6363422-0c85f06b01960741/tow_recovery_truck_scania_r560_la6x2hna_rescue_truck_triple_k_true_tilt_2011_6363422-2.jpg?format=jpg&amp;quality=70&amp;w=1110&amp;h=832\n",
            "[!] Error:: Invalid image, not saving https://www.trucksnl.com/pictures/ad-6363422-0c85f06b01960741/tow_recovery_truck_scania_r560_la6x2hna_rescue_truck_triple_k_true_tilt_2011_6363422-2.jpg?format=jpg&amp;quality=70&amp;w=1110&amp;h=832\n",
            "\n",
            "[%] Downloading Image #14 from https://www.vmcdn.ca/f/files/rmotoday/import/18/2018/09/GT-20141106-RMO0801-311069982-AR.jpeg;w=960\n",
            "[%] File Downloaded !\n",
            "\n",
            "[%] Downloading Image #15 from http://www.truetrucklogistics.com/images/truck-2.png\n",
            "[%] File Downloaded !\n",
            "\n",
            "[%] Downloading Image #16 from https://www.hardworkingtrucks.com/wp-content/uploads/sites/6/2017/11/true-american-hero-truck-giveaway-sema-20.jpg\n",
            "[%] File Downloaded !\n",
            "\n",
            "[%] Downloading Image #17 from https://www.mytruenorthnow.com/wp-content/uploads/2019/07/Paint-the-Police-Truck_6.jpg\n",
            "[%] File Downloaded !\n",
            "\n",
            "[%] Downloading Image #18 from http://images.gtcarlot.com/pictures/26528603.jpg\n",
            "[%] File Downloaded !\n",
            "\n",
            "[%] Downloading Image #19 from https://c1.staticflickr.com/9/8384/29190821592_129e06f779_z.jpg\n",
            "[%] File Downloaded !\n",
            "\n",
            "[%] Downloading Image #20 from https://www.hardworkingtrucks.com/wp-content/uploads/sites/6/2017/11/true-american-hero-truck-giveaway-sema-10-1.jpg\n",
            "[%] File Downloaded !\n",
            "\n",
            "[%] Downloading Image #21 from https://www.trucksnl.com/pictures/ad-6363422-00d5f06b018b1bc1/tow_recovery_truck_scania_r560_la6x2hna_rescue_truck_triple_k_true_tilt_2011_6363422.jpg?format=jpg&amp;quality=70&amp;w=1110&amp;h=832\n",
            "[Error]Invalid image, not saving https://www.trucksnl.com/pictures/ad-6363422-00d5f06b018b1bc1/tow_recovery_truck_scania_r560_la6x2hna_rescue_truck_triple_k_true_tilt_2011_6363422.jpg?format=jpg&amp;quality=70&amp;w=1110&amp;h=832\n",
            "\n",
            "[!] Issue getting: https://www.trucksnl.com/pictures/ad-6363422-00d5f06b018b1bc1/tow_recovery_truck_scania_r560_la6x2hna_rescue_truck_triple_k_true_tilt_2011_6363422.jpg?format=jpg&amp;quality=70&amp;w=1110&amp;h=832\n",
            "[!] Error:: Invalid image, not saving https://www.trucksnl.com/pictures/ad-6363422-00d5f06b018b1bc1/tow_recovery_truck_scania_r560_la6x2hna_rescue_truck_triple_k_true_tilt_2011_6363422.jpg?format=jpg&amp;quality=70&amp;w=1110&amp;h=832\n",
            "\n",
            "[%] Downloading Image #21 from https://img.sm360.ca/images/inventory/true-north-chevrolet-cadillac-ltd/chevrolet-truck/silverado-1500/2017/6233881/6233881_01592_2017-chevrolet-truck-silverado-1500_001.jpg\n",
            "[%] File Downloaded !\n",
            "\n",
            "[%] Downloading Image #22 from https://www.digdifferent.com/uploads/images/_facebook/oe-7000-t_pr-web.jpg\n",
            "[%] File Downloaded !\n",
            "\n",
            "[%] Downloading Image #23 from https://www.trucksnl.com/pictures/ad-6363422-6655f06b01e843fe/tow_recovery_truck_scania_r560_la6x2hna_rescue_truck_triple_k_true_tilt_2011_6363422-26.jpg?format=jpg&amp;quality=70&amp;w=1110&amp;h=832\n",
            "[Error]Invalid image, not saving https://www.trucksnl.com/pictures/ad-6363422-6655f06b01e843fe/tow_recovery_truck_scania_r560_la6x2hna_rescue_truck_triple_k_true_tilt_2011_6363422-26.jpg?format=jpg&amp;quality=70&amp;w=1110&amp;h=832\n",
            "\n",
            "[!] Issue getting: https://www.trucksnl.com/pictures/ad-6363422-6655f06b01e843fe/tow_recovery_truck_scania_r560_la6x2hna_rescue_truck_triple_k_true_tilt_2011_6363422-26.jpg?format=jpg&amp;quality=70&amp;w=1110&amp;h=832\n",
            "[!] Error:: Invalid image, not saving https://www.trucksnl.com/pictures/ad-6363422-6655f06b01e843fe/tow_recovery_truck_scania_r560_la6x2hna_rescue_truck_triple_k_true_tilt_2011_6363422-26.jpg?format=jpg&amp;quality=70&amp;w=1110&amp;h=832\n",
            "\n",
            "[%] Downloading Image #23 from http://coolmaterial.com/wp-content/uploads/2017/04/Own-Matthew-McConaugheys-Truck-From-True-Detective-3.jpg\n",
            "[%] File Downloaded !\n",
            "\n",
            "[%] Downloading Image #24 from http://classiccarsexport.com/photo/big/1954-chevrolet-3100-pickup-truck-frame-up-restoration-true-arizona-pickup-1.jpg\n",
            "[%] File Downloaded !\n",
            "\n",
            "[%] Downloading Image #25 from https://cdn.discordapp.com/attachments/544207479735713823/655156203818582017/eurotrucks2_2019-12-13_23-11-12_copy.png\n",
            "[%] File Downloaded !\n",
            "\n",
            "[%] Downloading Image #26 from https://ziplinelogistics.com/wp-content/uploads/2020/02/976_blog_rate-vs-total-cost-v1.jpg\n",
            "[%] File Downloaded !\n",
            "\n",
            "[%] Downloading Image #27 from https://img.sm360.ca/images/inventory/true-north-chevrolet-cadillac-ltd/chevrolet-truck/silverado-1500-4wd-d/2015/6314662/6314662_05688_2015-chevrolet-truck-silverado-1500-4wd-d_001.jpg\n",
            "[%] File Downloaded !\n",
            "\n",
            "[%] Downloading Image #28 from http://cdn.speednik.com/files/2016/02/2016-02-24_00-03-17.jpg\n",
            "[%] File Downloaded !\n",
            "\n",
            "[%] Downloading Image #29 from https://img.sm360.ca/ir/w1024h768/images/inventory/true-north-chevrolet-cadillac-ltd/chevrolet-truck/silverado-1500-4wd-d/2015/6314662/6314662_00496_2015-chevrolet-truck-silverado-1500-4wd-d_003.jpg\n",
            "[%] File Downloaded !\n",
            "\n",
            "[%] Downloading Image #30 from https://altdriver.com/wp-content/uploads/sites/2/2016/10/2016-10-26b.jpg\n",
            "[%] File Downloaded !\n",
            "\n",
            "[%] Downloading Image #31 from https://i1.wp.com/www.thecentsableshoppin.com/wp-content/uploads/2013/11/140432.jpg\n",
            "[%] File Downloaded !\n",
            "\n",
            "[%] Downloading Image #32 from https://hawkmoto.com/wp-content/uploads/2020/07/mercedes_across_lorry_24v-scaled.jpg\n",
            "[%] File Downloaded !\n",
            "\n",
            "[%] Downloading Image #33 from https://cdn.thewire.in/wp-content/uploads/2018/02/24170621/Thar1.jpg\n",
            "[%] File Downloaded !\n",
            "\n",
            "[%] Downloading Image #34 from https://img-s-msn-com.akamaized.net/tenant/amp/entityid/BB1cAWcw.img?h=630&amp;w=1200&amp;m=6&amp;q=60&amp;o=t&amp;l=f&amp;f=jpg\n",
            "[%] File Downloaded !\n",
            "\n",
            "[%] Downloading Image #35 from http://www.maximumvolumemusic.com/wp-content/uploads/2018/08/573019.jpg\n",
            "[%] File Downloaded !\n",
            "\n",
            "[%] Downloading Image #36 from https://i.pinimg.com/originals/af/8c/de/af8cdea6b3a6f9a2f59094fdd5385c5a.jpg\n",
            "[%] File Downloaded !\n",
            "\n",
            "[%] Downloading Image #37 from http://thecarsoftulelake.com/wp-content/uploads/2018/06/2017-06-29-21.07.42-1200x750.jpg\n",
            "[%] File Downloaded !\n",
            "\n",
            "[%] Downloading Image #38 from https://824619.smushcdn.com/1627152/wp-content/uploads/2017/10/westernstar.jpg?lossy=0&amp;strip=1&amp;webp=1\n",
            "[%] File Downloaded !\n",
            "\n",
            "[%] Downloading Image #39 from https://i.ytimg.com/vi/vtju3PWfFHM/hqdefault.jpg\n",
            "[%] File Downloaded !\n",
            "\n",
            "[%] Downloading Image #40 from https://static.pakwheels.com/2018/06/bedford-trucks-1a.jpg\n",
            "[%] File Downloaded !\n",
            "\n",
            "[%] Downloading Image #41 from https://tbtta.net/wp-content/uploads/2020/01/True-Blue-Truck-Training-Cover.jpg\n",
            "[%] File Downloaded !\n",
            "\n",
            "[%] Downloading Image #42 from https://824619.smushcdn.com/1627152/wp-content/uploads/2018/08/jorgensen.jpg?lossy=0&amp;strip=1&amp;webp=1\n",
            "[%] File Downloaded !\n",
            "\n",
            "[%] Downloading Image #43 from http://www.avalankids.com.au/assets/alt_1/20105202.jpg?20200707031736\n",
            "[%] File Downloaded !\n",
            "\n",
            "[%] Downloading Image #44 from http://www.avalankids.com.au/assets/alt_2/20105202.jpg?20200707031736\n",
            "[%] File Downloaded !\n",
            "\n",
            "[%] Downloading Image #45 from https://i.ytimg.com/vi/KLDNDF8yTh8/maxresdefault.jpg\n",
            "[%] File Downloaded !\n",
            "\n",
            "\n",
            "\n",
            "[!!]Indexing page: 2\n",
            "\n",
            "[%] Indexed 35 Images on Page 2.\n",
            "\n",
            "===============================================\n",
            "\n",
            "[%] Downloading Image #46 from http://smclassiccars.com/uploads/postfotos/1968-international-harvester-44-345-4sd-truck-true-barn-find-1.jpg\n",
            "[%] File Downloaded !\n",
            "\n",
            "[%] Downloading Image #47 from https://100hotcars.info/wp-content/uploads/2019/11/fiats-new-toro-sports-pickup-truck-shows-its-true-face-in-official-photo.jpg\n",
            "[%] File Downloaded !\n",
            "\n",
            "[%] Downloading Image #48 from http://monster-trucks-for-sale.com/wp-content/monster-trucks-for-sale.com/2017/05/true-head-turner-1970-international-harvester-scout-monster-truck-for-sale-2017-05-19-1.jpg\n",
            "[%] File Downloaded !\n",
            "\n",
            "[%] Downloading Image #49 from https://www.ford-trucks.com/wp-content/uploads/2017/04/TrueDetectiveF150-2.jpeg\n",
            "[%] File Downloaded !\n",
            "\n",
            "[%] Downloading Image #50 from http://www.indiewire.com/wp-content/uploads/2017/04/screen-shot-2017-04-17-at-08-34-41.png?w=780\n",
            "[%] File Downloaded !\n",
            "\n",
            "\n",
            "\n",
            "[%] Done. Downloaded 50 images.\n",
            "===============================================\n",
            "\n",
            "Please show your support here\n",
            "https://www.buymeacoffee.com/gurugaurav\n",
            "\n",
            "===============================================\n",
            "\n"
          ],
          "name": "stdout"
        }
      ]
    },
    {
      "cell_type": "code",
      "metadata": {
        "colab": {
          "base_uri": "https://localhost:8080/"
        },
        "id": "pa88oha4uX70",
        "outputId": "0b3b027d-d9ce-4d44-e793-5ad7d9f585e1"
      },
      "source": [
        "downloader.download(\"car\",limit=50,output_dir=\"images\",adult_filter_off=True)"
      ],
      "execution_count": null,
      "outputs": [
        {
          "output_type": "stream",
          "text": [
            "[%] Downloading Images to /content/images/car\n",
            "\n",
            "\n",
            "[!!]Indexing page: 1\n",
            "\n",
            "[%] Indexed 50 Images on Page 1.\n",
            "\n",
            "===============================================\n",
            "\n",
            "[%] Downloading Image #1 from http://www.carbodydesign.com/archive/2009/08/05-sv-9-competizione-images/SV-9-Competizione-4-lg.jpg\n",
            "[%] File Downloaded !\n",
            "\n",
            "[%] Downloading Image #2 from https://static.carthrottle.com/workspace/uploads/posts/2017/12/0fcad9c9368abebdbfb8aaf0211bf96b.jpg\n",
            "[%] File Downloaded !\n",
            "\n",
            "[%] Downloading Image #3 from http://jaikrishnaamaruti.com/uploads/truevalue_cars/0_27-01-2018_16-03-53.jpg\n",
            "[%] File Downloaded !\n",
            "\n",
            "[%] Downloading Image #4 from https://icdn-4.motor1.com/images/mgl/8gJ93/s1/amc-amx-the-first-true-sports-car-of-the-1960s.jpg\n",
            "[%] File Downloaded !\n",
            "\n",
            "[%] Downloading Image #5 from http://farm9.staticflickr.com/8012/7170866083_8504026441_o.jpg\n",
            "[%] File Downloaded !\n",
            "\n",
            "[%] Downloading Image #6 from http://dmi3w0goirzgw.cloudfront.net/gallery-images/1600/406000/600/406638.jpg\n",
            "[%] File Downloaded !\n",
            "\n",
            "[%] Downloading Image #7 from https://media.whatcar.com/wc-image/2020-01/suzuki_ignis_-_true_mpg_logo.jpg\n",
            "[%] File Downloaded !\n",
            "\n",
            "[%] Downloading Image #8 from http://smclassiccars.com/uploads/postfotos/1970-pontiac-gto-matching-039s-400-m20-4-speed-posi-true-american-muscle-1.jpg\n",
            "[%] File Downloaded !\n",
            "\n",
            "[%] Downloading Image #9 from https://i.ytimg.com/vi/L4ASPTYAokQ/maxresdefault.jpg\n",
            "[%] File Downloaded !\n",
            "\n",
            "[%] Downloading Image #10 from https://musclecarwarehouse.com.au/wp-content/uploads/2018/12/IMG_7245-1024x768.jpg\n",
            "[%] File Downloaded !\n",
            "\n",
            "[%] Downloading Image #11 from https://2.bp.blogspot.com/-pFg1wU-N6AM/U1AKuZTk5TI/AAAAAAAAUbg/IUYFPGxrhEA/s1600/boss302-4lr.jpg\n",
            "[%] File Downloaded !\n",
            "\n",
            "[%] Downloading Image #12 from https://media.whatcar.com/wc-image/2021-01/true_mpg_award_winner_-_toyota_yaris.jpg\n",
            "[%] File Downloaded !\n",
            "\n",
            "[%] Downloading Image #13 from https://farm5.staticflickr.com/4110/5027971302_35ec2b05d5_z.jpg\n",
            "[%] File Downloaded !\n",
            "\n",
            "[%] Downloading Image #14 from https://s.hdnux.com/photos/56/23/61/12139605/3/rawImage.jpg\n",
            "[%] File Downloaded !\n",
            "\n",
            "[%] Downloading Image #15 from http://jaikrishnaamaruti.com/uploads/truevalue_cars/1_06-03-2018_11-36-40.jpg\n",
            "[%] File Downloaded !\n",
            "\n",
            "[%] Downloading Image #16 from https://i.kinja-img.com/gawker-media/image/upload/c_fill,f_auto,fl_progressive,g_center,h_675,pg_1,q_80,w_1200/cht5zan2fi2af6jifsvk.jpg\n",
            "[%] File Downloaded !\n",
            "\n",
            "[%] Downloading Image #17 from https://static.bangkokpost.com/media/content/20200909/3743947.jpg\n",
            "[%] File Downloaded !\n",
            "\n",
            "[%] Downloading Image #18 from https://daxstreet.com/wp-content/uploads/2020/12/gtr-1024x576.jpg\n",
            "[%] File Downloaded !\n",
            "\n",
            "[%] Downloading Image #19 from https://cdn.carbuzz.com/gallery-images/840x560/406000/600/406646.jpg\n",
            "[%] File Downloaded !\n",
            "\n",
            "[%] Downloading Image #20 from https://media.whatcar.com/migration/article_inline/31e233fabca887757aba0bb56028fce65792efc4.jpg\n",
            "[%] File Downloaded !\n",
            "\n",
            "[%] Downloading Image #21 from http://jaikrishnaamaruti.com/uploads/truevalue_cars/0_13-08-2020_12-54-32.jpeg\n",
            "[%] File Downloaded !\n",
            "\n",
            "[%] Downloading Image #22 from https://i.pinimg.com/originals/b3/a6/47/b3a64770647364851c25139fc1d26c92.jpg\n",
            "[%] File Downloaded !\n",
            "\n",
            "[%] Downloading Image #23 from http://farm8.staticflickr.com/7411/10414280056_61c166f466_z.jpg\n",
            "[%] File Downloaded !\n",
            "\n",
            "[%] Downloading Image #24 from http://st.lowrider.com/uploads/sites/7/2016/07/switch-car-club-2016-day-at-the-bay-true-life-1965-buick-riviera.jpg\n",
            "[%] File Downloaded !\n",
            "\n",
            "[%] Downloading Image #25 from http://i2.cdn.turner.com/money/dam/assets/150216140433-nokia-here-true-car-780x439.jpg\n",
            "[%] File Downloaded !\n",
            "\n",
            "[%] Downloading Image #26 from https://automotiveimpressions.net/wp-content/uploads/2020/11/Hellcat20-F.jpg\n",
            "[%] File Downloaded !\n",
            "\n",
            "[%] Downloading Image #27 from http://jaikrishnaamaruti.com/uploads/truevalue_cars/0_06-03-2018_11-36-40.jpg\n",
            "[%] File Downloaded !\n",
            "\n",
            "[%] Downloading Image #28 from http://jaikrishnaamaruti.com/uploads/truevalue_cars/1_15-10-2016_11-06-49.jpg\n",
            "[%] File Downloaded !\n",
            "\n",
            "[%] Downloading Image #29 from https://cdn-news.warriortrading.com/wp-content/uploads/2017/02/19182100/TRUE-Logo.jpg\n",
            "[%] File Downloaded !\n",
            "\n",
            "[%] Downloading Image #30 from http://jaikrishnaamaruti.com/uploads/truevalue_cars/0_06-03-2018_14-16-55.jpg\n",
            "[%] File Downloaded !\n",
            "\n",
            "[%] Downloading Image #31 from http://jaikrishnaamaruti.com/uploads/truevalue_cars/1_06-03-2018_11-56-10.jpg\n",
            "[%] File Downloaded !\n",
            "\n",
            "[%] Downloading Image #32 from https://i.kinja-img.com/gawker-media/image/upload/s--IJ0D_7F2--/c_fill,fl_progressive,g_center,h_900,q_80,w_1600/644605760300513317.jpg\n",
            "[%] File Downloaded !\n",
            "\n",
            "[%] Downloading Image #33 from https://2.bp.blogspot.com/-o_GFAdQ5-PY/TaYDPjhUVCI/AAAAAAAAACA/IKN5XtQGUgc/s1600/1.jpg\n",
            "[%] File Downloaded !\n",
            "\n",
            "[%] Downloading Image #34 from https://musclecarwarehouse.com.au/wp-content/uploads/2018/12/IMG_7244-762x456.jpg\n",
            "[%] File Downloaded !\n",
            "\n",
            "[%] Downloading Image #35 from https://www.amosauto.com/wp-content/uploads/c07-0812ae.jpg\n",
            "[%] File Downloaded !\n",
            "\n",
            "[%] Downloading Image #36 from http://jaikrishnaamaruti.com/uploads/truevalue_cars/1_29-09-2016_12-56-34.jpg\n",
            "[%] File Downloaded !\n",
            "\n",
            "[%] Downloading Image #37 from https://images.ctfassets.net/h52as2aiqybp/1Rb2TVz3n9Rc0DtZQxqGyT/ad91f459891afbca24931d1b233f9117/TrueCarlogonew.png\n",
            "[%] File Downloaded !\n",
            "\n",
            "[%] Downloading Image #38 from http://jaikrishnaamaruti.com/uploads/truevalue_cars/3_10-09-2016_12-41-14.jpg\n",
            "[%] File Downloaded !\n",
            "\n",
            "[%] Downloading Image #39 from http://jaikrishnaamaruti.com/uploads/truevalue_cars/1_14-08-2020_10-51-03.jpeg\n",
            "[%] File Downloaded !\n",
            "\n",
            "[%] Downloading Image #40 from https://media.whatcar.com/migration/reviews/95bb3932f4af6d8e2009d2c4c484b9318428e0c1.jpg\n",
            "[%] File Downloaded !\n",
            "\n",
            "[%] Downloading Image #41 from http://img07.deviantart.net/a37e/i/2014/203/8/6/true_american_muscle_car_by_toyonda-d7rr5e8.jpg\n",
            "[%] File Downloaded !\n",
            "\n",
            "[%] Downloading Image #42 from https://media.caradvice.com.au/image/private/w_2000,ar_16:9,c_lfill,f_auto,g_auto:car,q_auto/t_wm_nw/bec83aca69607df309a278436bc5d964.jpg\n",
            "[%] File Downloaded !\n",
            "\n",
            "[%] Downloading Image #43 from https://i.pinimg.com/originals/47/17/b8/4717b8769d0ad5cfbd82a135f265b633.jpg\n",
            "[%] File Downloaded !\n",
            "\n",
            "[%] Downloading Image #44 from http://jaikrishnaamaruti.com/uploads/truevalue_cars/0_17-10-2016_13-07-35.jpg\n",
            "[%] File Downloaded !\n",
            "\n",
            "[%] Downloading Image #45 from https://yt3.ggpht.com/a-/AAuE7mALGC_R3AcUGBgtGhF9e-Bdb3JhYeo53mniPA=s900-mo-c-c0xffffffff-rj-k-no\n",
            "[%] File Downloaded !\n",
            "\n",
            "[%] Downloading Image #46 from https://i2.wp.com/namastecar.com/wp-content/uploads/2017/11/Get-quality-pre-owned-car-from-Maruti-Suzuki-True-Value.jpg\n",
            "[%] File Downloaded !\n",
            "\n",
            "[%] Downloading Image #47 from https://media.bizj.us/view/img/10428487/bloomberg-car-dealership*1200xx4000-2250-0-209.jpg\n",
            "[%] File Downloaded !\n",
            "\n",
            "[%] Downloading Image #48 from https://photos.prnewswire.com/prnfull/20110118/LA31413LOGO\n",
            "[%] File Downloaded !\n",
            "\n",
            "[%] Downloading Image #49 from http://www.thedetroitbureau.com/wp-content/uploads/2011/08/TrueCar-Logo.jpg\n",
            "[%] File Downloaded !\n",
            "\n",
            "[%] Downloading Image #50 from https://pictures.dealer.com/l/lakenormancdjcllc/1738/c34f1576fe349a67beadb84323c0cd7cx.jpg\n",
            "[%] File Downloaded !\n",
            "\n",
            "\n",
            "\n",
            "[%] Done. Downloaded 50 images.\n",
            "===============================================\n",
            "\n",
            "Please show your support here\n",
            "https://www.buymeacoffee.com/gurugaurav\n",
            "\n",
            "===============================================\n",
            "\n"
          ],
          "name": "stdout"
        }
      ]
    },
    {
      "cell_type": "code",
      "metadata": {
        "colab": {
          "base_uri": "https://localhost:8080/"
        },
        "id": "IdSWUWh0vgyf",
        "outputId": "169914c8-d96a-4085-cdf7-664121f58f1d"
      },
      "source": [
        "downloader.download(\"auto rickshaw\",limit=50,output_dir=\"images\",adult_filter_off=True)"
      ],
      "execution_count": null,
      "outputs": [
        {
          "output_type": "stream",
          "text": [
            "[%] Downloading Images to /content/images/auto rickshaw\n",
            "\n",
            "\n",
            "[!!]Indexing page: 1\n",
            "\n",
            "[%] Indexed 50 Images on Page 1.\n",
            "\n",
            "===============================================\n",
            "\n",
            "[%] Downloading Image #1 from https://3.bp.blogspot.com/-zp9pw16lMdo/T1DWE_PCYEI/AAAAAAAAAec/CHBgIUtkKlM/s1600/India_auto_rickshaws_taxi.jpg\n",
            "[%] File Downloaded !\n",
            "\n",
            "[%] Downloading Image #2 from https://n3.sdlcdn.com/imgs/h/d/0/KidzFan-Die-Cast-Auto-Rickshaw-SDL919486418-6-2c2ae.jpeg\n",
            "[%] File Downloaded !\n",
            "\n",
            "[%] Downloading Image #3 from https://n3.sdlcdn.com/imgs/h/d/0/KidzFan-Die-Cast-Auto-Rickshaw-SDL919486418-4-b7792.jpeg\n",
            "[%] File Downloaded !\n",
            "\n",
            "[%] Downloading Image #4 from https://n1.sdlcdn.com/imgs/h/d/0/KidzFan-Die-Cast-Auto-Rickshaw-SDL919486418-3-1a0f4.jpeg\n",
            "[%] File Downloaded !\n",
            "\n",
            "[%] Downloading Image #5 from https://n1.sdlcdn.com/imgs/h/d/0/KidzFan-Die-Cast-Auto-Rickshaw-SDL919486418-1-48543.jpeg\n",
            "[%] File Downloaded !\n",
            "\n",
            "[%] Downloading Image #6 from https://e4p7c9i3.stackpathcdn.com/wp-content/uploads/2016/06/12-990x864.jpg?iv=64\n",
            "[%] File Downloaded !\n",
            "\n",
            "[%] Downloading Image #7 from https://upload.wikimedia.org/wikipedia/commons/8/8d/Auto_Rickshaw_-_Flickr_-_Terry_Wha_(1).jpg\n",
            "[%] File Downloaded !\n",
            "\n",
            "[%] Downloading Image #8 from https://n3.sdlcdn.com/imgs/h/d/0/KidzFan-Die-Cast-Auto-Rickshaw-SDL919486418-5-4ac00.jpeg\n",
            "[%] File Downloaded !\n",
            "\n",
            "[%] Downloading Image #9 from https://images.thequint.com/thequint%2F2017-05%2Fe99788e5-df19-4812-8068-c7282c2b2262%2Fa8be601d-72e8-4e1d-8ee2-79911d3535a0.jpg?rect=0%2C19%2C500%2C263&amp;w=1200&amp;auto=format%2Ccompress&amp;ogImage=true\n",
            "[Error]Invalid image, not saving https://images.thequint.com/thequint%2F2017-05%2Fe99788e5-df19-4812-8068-c7282c2b2262%2Fa8be601d-72e8-4e1d-8ee2-79911d3535a0.jpg?rect=0%2C19%2C500%2C263&amp;w=1200&amp;auto=format%2Ccompress&amp;ogImage=true\n",
            "\n",
            "[!] Issue getting: https://images.thequint.com/thequint%2F2017-05%2Fe99788e5-df19-4812-8068-c7282c2b2262%2Fa8be601d-72e8-4e1d-8ee2-79911d3535a0.jpg?rect=0%2C19%2C500%2C263&amp;w=1200&amp;auto=format%2Ccompress&amp;ogImage=true\n",
            "[!] Error:: Invalid image, not saving https://images.thequint.com/thequint%2F2017-05%2Fe99788e5-df19-4812-8068-c7282c2b2262%2Fa8be601d-72e8-4e1d-8ee2-79911d3535a0.jpg?rect=0%2C19%2C500%2C263&amp;w=1200&amp;auto=format%2Ccompress&amp;ogImage=true\n",
            "\n",
            "[%] Downloading Image #9 from https://www.kathmanduandbeyond.com/wp-content/uploads/2015/10/Auto-Rickshaws-around-the-World-mostly-in-Asia-.jpg\n",
            "[%] File Downloaded !\n",
            "\n",
            "[%] Downloading Image #10 from https://upload.wikimedia.org/wikipedia/commons/thumb/8/88/Auto-rickshaws.jpg/1280px-Auto-rickshaws.jpg\n",
            "[%] File Downloaded !\n",
            "\n",
            "[%] Downloading Image #11 from https://www.thebetterindia.com/wp-content/uploads/2019/01/auto8.jpg\n",
            "[%] File Downloaded !\n",
            "\n",
            "[%] Downloading Image #12 from https://i.ebayimg.com/images/i/131421720820-0-1/s-l1000.jpg\n",
            "[%] File Downloaded !\n",
            "\n",
            "[%] Downloading Image #13 from https://i1.wp.com/idownsized.com/wp-content/uploads/2020/03/Rickshaw-Camper-6.jpg?resize=895%2C936&amp;ssl=1\n",
            "[%] File Downloaded !\n",
            "\n",
            "[%] Downloading Image #14 from https://n1.sdlcdn.com/imgs/h/k/j/E-Auto-Rickshaw-Miniature-Automobile-SDL681434600-2-e12c8.jpg\n",
            "[%] File Downloaded !\n",
            "\n",
            "[%] Downloading Image #15 from http://2.bp.blogspot.com/-dl2FdjAlQVw/T1DS_gs5xBI/AAAAAAAAAeE/YPh1nCMYrk0/s1600/auto_rickshaw+stand.jpg\n",
            "[%] File Downloaded !\n",
            "\n",
            "[%] Downloading Image #16 from https://3.bp.blogspot.com/-0l4pWiQ_VGQ/UALeAJxw0TI/AAAAAAAAClc/m3rE3Jdglz0/s1600/mumbai-autorickshaw.jpg\n",
            "[%] File Downloaded !\n",
            "\n",
            "[%] Downloading Image #17 from https://n1.sdlcdn.com/imgs/i/n/i/Kids-Auto-Rickshaw-Toy-Model-SDL262647236-2-6b86e.jpeg\n",
            "[%] File Downloaded !\n",
            "\n",
            "[%] Downloading Image #18 from https://5.imimg.com/data5/EQ/GR/FB/GLADMIN-70605409/selection-777-500x500-500x500-500x500.png\n",
            "[%] File Downloaded !\n",
            "\n",
            "[%] Downloading Image #19 from https://images.assettype.com/afaqs%2Fimport%2Fall%2Fnews%2Fimages%2Fnews_story_grfx%2F2017%2F51072_1_home_big.jpg?w=1200&amp;auto=format%2Ccompress&amp;ogImage=true\n",
            "[%] File Downloaded !\n",
            "\n",
            "[%] Downloading Image #20 from https://i1.wp.com/idownsized.com/wp-content/uploads/2020/03/Rickshaw-Camper-1.jpg?resize=1100%2C744&amp;ssl=1\n",
            "[%] File Downloaded !\n",
            "\n",
            "[%] Downloading Image #21 from https://n1.sdlcdn.com/imgs/i/n/i/Kids-Auto-Rickshaw-Toy-Model-SDL262647236-1-542ab.jpeg\n",
            "[%] File Downloaded !\n",
            "\n",
            "[%] Downloading Image #22 from https://i0.wp.com/www.worktraveltech.com/wp-content/uploads/2015/06/IMG_1532.jpg\n",
            "[%] File Downloaded !\n",
            "\n",
            "[%] Downloading Image #23 from https://gumlet.assettype.com/freepressjournal%2F2020-03%2Ff2e0c908-06bb-4385-af1d-a4d4dd92cd36%2Fcats.jpg?w=1200&amp;auto=format%2Ccompress&amp;ogImage=true\n",
            "[Error]Invalid image, not saving https://gumlet.assettype.com/freepressjournal%2F2020-03%2Ff2e0c908-06bb-4385-af1d-a4d4dd92cd36%2Fcats.jpg?w=1200&amp;auto=format%2Ccompress&amp;ogImage=true\n",
            "\n",
            "[!] Issue getting: https://gumlet.assettype.com/freepressjournal%2F2020-03%2Ff2e0c908-06bb-4385-af1d-a4d4dd92cd36%2Fcats.jpg?w=1200&amp;auto=format%2Ccompress&amp;ogImage=true\n",
            "[!] Error:: Invalid image, not saving https://gumlet.assettype.com/freepressjournal%2F2020-03%2Ff2e0c908-06bb-4385-af1d-a4d4dd92cd36%2Fcats.jpg?w=1200&amp;auto=format%2Ccompress&amp;ogImage=true\n",
            "\n",
            "[%] Downloading Image #23 from https://n1.sdlcdn.com/imgs/h/d/0/KidzFan-Die-Cast-Auto-Rickshaw-SDL919486418-2-aeb9b.jpeg\n",
            "[%] File Downloaded !\n",
            "\n",
            "[%] Downloading Image #24 from https://n1.sdlcdn.com/imgs/h/k/j/E-Auto-Rickshaw-Miniature-Automobile-SDL681434600-1-b2aa8.jpg\n",
            "[%] File Downloaded !\n",
            "\n",
            "[%] Downloading Image #25 from https://fthmb.tqn.com/UkfR_4lPILO0grRe9SML42WT5bI=/3008x2000/filters:fill(auto,1)/tuk-tuk-in-thailand-56a379153df78cf7727d8557.jpg\n",
            "[%] File Downloaded !\n",
            "\n",
            "[%] Downloading Image #26 from https://n1.sdlcdn.com/imgs/i/2/b/1-14-Scale-Auto-Rikshaw-SDL115781374-3-9b765.jpeg\n",
            "[%] File Downloaded !\n",
            "\n",
            "[%] Downloading Image #27 from https://i.ebayimg.com/images/g/HGAAAOSwo4pYkeo3/s-l400.jpg\n",
            "[%] File Downloaded !\n",
            "\n",
            "[%] Downloading Image #28 from https://n1.sdlcdn.com/imgs/h/k/j/E-Auto-Rickshaw-Miniature-Automobile-SDL681434600-3-17851.jpg\n",
            "[%] File Downloaded !\n",
            "\n",
            "[%] Downloading Image #29 from https://images.indianexpress.com/2016/07/e-rickshaw-7591.jpg?w=759&amp;h=422&amp;imflag=true\n",
            "[%] File Downloaded !\n",
            "\n",
            "[%] Downloading Image #30 from https://i.ebayimg.com/images/g/9UMAAOSwVs1fufRq/s-l400.jpg\n",
            "[%] File Downloaded !\n",
            "\n",
            "[%] Downloading Image #31 from https://tsncdn.truescoopnews.com/images/full/newsinner_20200516095800_1.jpg\n",
            "[%] File Downloaded !\n",
            "\n",
            "[%] Downloading Image #32 from https://commercialvehicleinfo.com/wp-content/uploads/2018/01/Bajaj-RE-Compact-Diesel-Auto-Rickshaw-2.jpg\n",
            "[%] File Downloaded !\n",
            "\n",
            "[%] Downloading Image #33 from http://upload.wikimedia.org/wikipedia/commons/4/45/Autorickshaw_on_Raj_Path_New_Delhi.JPG\n",
            "[Error]Invalid image, not saving http://upload.wikimedia.org/wikipedia/commons/4/45/Autorickshaw_on_Raj_Path_New_Delhi.JPG\n",
            "\n",
            "[!] Issue getting: http://upload.wikimedia.org/wikipedia/commons/4/45/Autorickshaw_on_Raj_Path_New_Delhi.JPG\n",
            "[!] Error:: Invalid image, not saving http://upload.wikimedia.org/wikipedia/commons/4/45/Autorickshaw_on_Raj_Path_New_Delhi.JPG\n",
            "\n",
            "[%] Downloading Image #33 from https://gumlet.assettype.com/freepressjournal%2F2021-07%2F2c24ec02-141a-4a4b-ac4c-46565a85a30b%2Fthane_west_auto_rickshaw_stand_503269.jpg?w=1200&amp;auto=format%2Ccompress&amp;ogImage=true\n",
            "[Error]Invalid image, not saving https://gumlet.assettype.com/freepressjournal%2F2021-07%2F2c24ec02-141a-4a4b-ac4c-46565a85a30b%2Fthane_west_auto_rickshaw_stand_503269.jpg?w=1200&amp;auto=format%2Ccompress&amp;ogImage=true\n",
            "\n",
            "[!] Issue getting: https://gumlet.assettype.com/freepressjournal%2F2021-07%2F2c24ec02-141a-4a4b-ac4c-46565a85a30b%2Fthane_west_auto_rickshaw_stand_503269.jpg?w=1200&amp;auto=format%2Ccompress&amp;ogImage=true\n",
            "[!] Error:: Invalid image, not saving https://gumlet.assettype.com/freepressjournal%2F2021-07%2F2c24ec02-141a-4a4b-ac4c-46565a85a30b%2Fthane_west_auto_rickshaw_stand_503269.jpg?w=1200&amp;auto=format%2Ccompress&amp;ogImage=true\n",
            "\n",
            "[%] Downloading Image #33 from https://upload.wikimedia.org/wikipedia/commons/thumb/b/bf/Bajaj_Auto_Rickshaw_(2_types)_in_Goa%2C_India_(17040057599).jpg/1024px-Bajaj_Auto_Rickshaw_(2_types)_in_Goa%2C_India_(17040057599).jpg\n",
            "[%] File Downloaded !\n",
            "\n",
            "[%] Downloading Image #34 from https://n4.sdlcdn.com/imgs/i/2/b/1-14-Scale-Auto-Rikshaw-SDL115781374-4-25d97.jpeg\n",
            "[%] File Downloaded !\n",
            "\n",
            "[%] Downloading Image #35 from https://1.bp.blogspot.com/-LtF6jPs9yHc/T1DSvk8PrhI/AAAAAAAAAd8/kcM_TQd6nhg/s1600/rickshaw.jpg\n",
            "[%] File Downloaded !\n",
            "\n",
            "[%] Downloading Image #36 from http://2.bp.blogspot.com/-xYrfxmroEyc/Ts0JRqmNNXI/AAAAAAAADiM/5BCN8Dj5LvI/w1200-h630-p-k-nu/japanese_auto_rikshaw_01.jpg\n",
            "[%] File Downloaded !\n",
            "\n",
            "[%] Downloading Image #37 from https://img.xcitefun.net/users/2011/11/271865,xcitefun-japanese-auto-rikshaw-05.jpg\n",
            "[%] File Downloaded !\n",
            "\n",
            "[%] Downloading Image #38 from https://img3.exportersindia.com/product_images/bc-full/2019/10/6666948/brass-auto-rickshaw-1572520164-5136177.jpeg\n",
            "[%] File Downloaded !\n",
            "\n",
            "[%] Downloading Image #39 from http://1.bp.blogspot.com/-I41VPiNnnHw/T1DTi8knZYI/AAAAAAAAAeU/yfFucnnc_5w/s1600/C0070158-Overloaded_auto_rickshaw-SPL.jpg\n",
            "[%] File Downloaded !\n",
            "\n",
            "[%] Downloading Image #40 from https://mir-s3-cdn-cf.behance.net/project_modules/max_1200/894ade37629351.5746bd7b85ade.jpg\n",
            "[Error]Invalid image, not saving https://mir-s3-cdn-cf.behance.net/project_modules/max_1200/894ade37629351.5746bd7b85ade.jpg\n",
            "\n",
            "[!] Issue getting: https://mir-s3-cdn-cf.behance.net/project_modules/max_1200/894ade37629351.5746bd7b85ade.jpg\n",
            "[!] Error:: Invalid image, not saving https://mir-s3-cdn-cf.behance.net/project_modules/max_1200/894ade37629351.5746bd7b85ade.jpg\n",
            "\n",
            "[%] Downloading Image #40 from https://2.bp.blogspot.com/-rRoI2kpm47E/T1DTPqLECyI/AAAAAAAAAeM/zYwKc6y7CJc/s1600/tata.jpg\n",
            "[%] File Downloaded !\n",
            "\n",
            "[%] Downloading Image #41 from https://www.naukrinama.com/stressbuster/wp-content/uploads/2016/10/From-TV-to-Wi-Fi-This-Auto-Rickshaw-Gives-All-Facilities-Equivalent-To-A-Luxury-Car-800x420.jpg\n",
            "[%] File Downloaded !\n",
            "\n",
            "[%] Downloading Image #42 from https://i.ytimg.com/vi/_xgTsHohQEI/maxresdefault.jpg\n",
            "[%] File Downloaded !\n",
            "\n",
            "[%] Downloading Image #43 from https://i.pinimg.com/originals/c7/33/15/c733154638f21d1a5d39f4e84774d653.jpg\n",
            "[%] File Downloaded !\n",
            "\n",
            "[%] Downloading Image #44 from https://i.pinimg.com/originals/5d/46/eb/5d46eba51b6c99e05f1c4e644ef6ed2d.jpg\n",
            "[%] File Downloaded !\n",
            "\n",
            "[%] Downloading Image #45 from https://n4.sdlcdn.com/imgs/h/k/j/E-Auto-Rickshaw-Miniature-Automobile-SDL681434600-4-8d0cc.jpg\n",
            "[%] File Downloaded !\n",
            "\n",
            "\n",
            "\n",
            "[!!]Indexing page: 2\n",
            "\n",
            "[%] Indexed 35 Images on Page 2.\n",
            "\n",
            "===============================================\n",
            "\n",
            "[%] Downloading Image #46 from https://3.bp.blogspot.com/-zp9pw16lMdo/T1DWE_PCYEI/AAAAAAAAAec/CHBgIUtkKlM/s1600/India_auto_rickshaws_taxi.jpg\n",
            "[%] File Downloaded !\n",
            "\n",
            "[%] Downloading Image #47 from https://n3.sdlcdn.com/imgs/h/d/0/KidzFan-Die-Cast-Auto-Rickshaw-SDL919486418-6-2c2ae.jpeg\n",
            "[%] File Downloaded !\n",
            "\n",
            "[%] Downloading Image #48 from https://n3.sdlcdn.com/imgs/h/d/0/KidzFan-Die-Cast-Auto-Rickshaw-SDL919486418-4-b7792.jpeg\n",
            "[%] File Downloaded !\n",
            "\n",
            "[%] Downloading Image #49 from https://n1.sdlcdn.com/imgs/h/d/0/KidzFan-Die-Cast-Auto-Rickshaw-SDL919486418-3-1a0f4.jpeg\n",
            "[%] File Downloaded !\n",
            "\n",
            "[%] Downloading Image #50 from https://n1.sdlcdn.com/imgs/h/d/0/KidzFan-Die-Cast-Auto-Rickshaw-SDL919486418-1-48543.jpeg\n",
            "[%] File Downloaded !\n",
            "\n",
            "\n",
            "\n",
            "[%] Done. Downloaded 50 images.\n",
            "===============================================\n",
            "\n",
            "Please show your support here\n",
            "https://www.buymeacoffee.com/gurugaurav\n",
            "\n",
            "===============================================\n",
            "\n"
          ],
          "name": "stdout"
        }
      ]
    },
    {
      "cell_type": "code",
      "metadata": {
        "id": "9A9ioeWewKko"
      },
      "source": [
        "import os \n",
        "import matplotlib.pyplot as plt\n",
        "import numpy as np\n",
        "from skimage.io import imread\n",
        "from skimage.transform import resize\n",
        "\n",
        "target=[]\n",
        "images=[]\n",
        "flat_data=[]\n",
        "\n",
        "datadir='/content/images'\n",
        "categories=['truck','car','auto rickshaw']\n",
        "\n",
        "for category in categories:\n",
        "  class_num=categories.index(category)\n",
        "  path=os.path.join(datadir,category)\n",
        "  for img in os.listdir(path):\n",
        "    img_array=imread(os.path.join(path,img))\n",
        "    img_resized=resize(img_array,(150,150,3))\n",
        "    flat_data.append(img_resized.flatten())\n",
        "    images.append(img_resized)\n",
        "    target.append(class_num)\n",
        "\n",
        "flat_data=np.array(flat_data)\n",
        "target=np.array(target)\n",
        "images=np.array(images)"
      ],
      "execution_count": null,
      "outputs": []
    },
    {
      "cell_type": "code",
      "metadata": {
        "colab": {
          "base_uri": "https://localhost:8080/",
          "height": 284
        },
        "id": "M3YMcoZH4VVV",
        "outputId": "341eec96-fb43-4946-b7aa-7a3fc2023ba2"
      },
      "source": [
        "unique,count=np.unique(target,return_counts=True)\n",
        "plt.bar(categories,count)"
      ],
      "execution_count": null,
      "outputs": [
        {
          "output_type": "execute_result",
          "data": {
            "text/plain": [
              "<BarContainer object of 3 artists>"
            ]
          },
          "metadata": {
            "tags": []
          },
          "execution_count": 21
        },
        {
          "output_type": "display_data",
          "data": {
            "image/png": "[encoded data removed]",
            "text/plain": [
              "<Figure size 432x288 with 1 Axes>"
            ]
          },
          "metadata": {
            "tags": [],
            "needs_background": "light"
          }
        }
      ]
    },
    {
      "cell_type": "code",
      "metadata": {
        "id": "8cKhdxMR4fRN"
      },
      "source": [
        "from sklearn.model_selection import train_test_split\n",
        "x_train,x_test,y_train,y_test= train_test_split(flat_data,target,test_size=0.5,random_state=125) "
      ],
      "execution_count": null,
      "outputs": []
    },
    {
      "cell_type": "code",
      "metadata": {
        "colab": {
          "base_uri": "https://localhost:8080/"
        },
        "id": "jfhjCnOE5vuR",
        "outputId": "f8567d9e-0f31-4650-a999-bfacb5206388"
      },
      "source": [
        "from sklearn.model_selection import GridSearchCV\n",
        "from sklearn import svm\n",
        "param_grid=[\n",
        "            {'C':[1,10,100,1000],'kernel':['linear']},\n",
        "            {'C':[1,10,100,1000],'gamma':[0.001,0.0001],'kernel':['rbf']},\n",
        "]\n",
        "\n",
        "svc=svm.SVC(probability=True)\n",
        "clf=GridSearchCV(svc,param_grid)\n",
        "clf.fit(x_train,y_train)"
      ],
      "execution_count": null,
      "outputs": [
        {
          "output_type": "execute_result",
          "data": {
            "text/plain": [
              "GridSearchCV(cv=None, error_score=nan,\n",
              "             estimator=SVC(C=1.0, break_ties=False, cache_size=200,\n",
              "                           class_weight=None, coef0=0.0,\n",
              "                           decision_function_shape='ovr', degree=3,\n",
              "                           gamma='scale', kernel='rbf', max_iter=-1,\n",
              "                           probability=True, random_state=None, shrinking=True,\n",
              "                           tol=0.001, verbose=False),\n",
              "             iid='deprecated', n_jobs=None,\n",
              "             param_grid=[{'C': [1, 10, 100, 1000], 'kernel': ['linear']},\n",
              "                         {'C': [1, 10, 100, 1000], 'gamma': [0.001, 0.0001],\n",
              "                          'kernel': ['rbf']}],\n",
              "             pre_dispatch='2*n_jobs', refit=True, return_train_score=False,\n",
              "             scoring=None, verbose=0)"
            ]
          },
          "metadata": {
            "tags": []
          },
          "execution_count": 23
        }
      ]
    },
    {
      "cell_type": "code",
      "metadata": {
        "colab": {
          "base_uri": "https://localhost:8080/"
        },
        "id": "57xEo-M37qL-",
        "outputId": "6cbb8a1c-3401-4c59-d9a7-3d1ee245028b"
      },
      "source": [
        "y_pred=clf.predict(x_test)\n",
        "y_pred"
      ],
      "execution_count": null,
      "outputs": [
        {
          "output_type": "execute_result",
          "data": {
            "text/plain": [
              "array([0, 1, 0, 0, 1, 0, 1, 2, 1, 0, 2, 0, 0, 0, 0, 1, 0, 1, 2, 1, 0, 2,\n",
              "       1, 1, 1, 0, 0, 0, 0, 2, 0, 0, 1, 0, 2, 2, 0, 0, 2, 0, 2, 0, 0, 0,\n",
              "       0, 1, 0, 0, 0, 0, 0, 1, 2, 0, 2, 0, 0, 1, 2, 1, 0, 1, 0, 1, 2, 1,\n",
              "       1, 2, 0, 1, 1, 1, 0, 2, 1, 1, 2, 0, 2, 0])"
            ]
          },
          "metadata": {
            "tags": []
          },
          "execution_count": 24
        }
      ]
    },
    {
      "cell_type": "code",
      "metadata": {
        "colab": {
          "base_uri": "https://localhost:8080/"
        },
        "id": "CmMKi7B89PuI",
        "outputId": "5c1e932b-8ef4-46fa-943f-300cc4bc0419"
      },
      "source": [
        "y_test"
      ],
      "execution_count": null,
      "outputs": [
        {
          "output_type": "execute_result",
          "data": {
            "text/plain": [
              "array([2, 1, 1, 2, 1, 0, 0, 2, 1, 2, 2, 1, 0, 0, 1, 1, 2, 0, 2, 1, 1, 2,\n",
              "       1, 1, 0, 0, 0, 0, 1, 2, 0, 0, 2, 0, 0, 2, 1, 0, 2, 0, 2, 2, 1, 1,\n",
              "       0, 2, 0, 0, 0, 1, 0, 1, 2, 0, 0, 1, 0, 0, 2, 1, 2, 2, 2, 1, 2, 1,\n",
              "       2, 2, 2, 0, 1, 2, 0, 2, 1, 2, 2, 1, 2, 0])"
            ]
          },
          "metadata": {
            "tags": []
          },
          "execution_count": 25
        }
      ]
    },
    {
      "cell_type": "code",
      "metadata": {
        "colab": {
          "base_uri": "https://localhost:8080/"
        },
        "id": "jdHcpO1E9RMv",
        "outputId": "e967328e-1a04-454c-fbd0-c8842270718c"
      },
      "source": [
        "from sklearn.metrics import accuracy_score,confusion_matrix\n",
        "accuracy_score(y_pred,y_test)"
      ],
      "execution_count": null,
      "outputs": [
        {
          "output_type": "execute_result",
          "data": {
            "text/plain": [
              "0.6"
            ]
          },
          "metadata": {
            "tags": []
          },
          "execution_count": 27
        }
      ]
    },
    {
      "cell_type": "code",
      "metadata": {
        "colab": {
          "base_uri": "https://localhost:8080/"
        },
        "id": "5XzvNtue9Y3O",
        "outputId": "68d44220-1c60-4b78-ca51-5272c3a82d20"
      },
      "source": [
        "confusion_matrix(y_pred,y_test)"
      ],
      "execution_count": null,
      "outputs": [
        {
          "output_type": "execute_result",
          "data": {
            "text/plain": [
              "array([[20, 11,  8],\n",
              "       [ 5, 13,  6],\n",
              "       [ 2,  0, 15]])"
            ]
          },
          "metadata": {
            "tags": []
          },
          "execution_count": 28
        }
      ]
    },
    {
      "cell_type": "code",
      "metadata": {
        "id": "QTT03YqK9wEn"
      },
      "source": [
        "import pickle\n",
        "pickle.dump(clf,open('img_model.p','wb'))"
      ],
      "execution_count": null,
      "outputs": []
    },
    {
      "cell_type": "code",
      "metadata": {
        "id": "xQxTcA68-hWZ"
      },
      "source": [
        "model=pickle.load(open('img_model.p','rb'))"
      ],
      "execution_count": null,
      "outputs": []
    },
    {
      "cell_type": "code",
      "metadata": {
        "colab": {
          "base_uri": "https://localhost:8080/"
        },
        "id": "8lib1MCf-3kJ",
        "outputId": "63f16c66-f0c8-47b9-a891-fe098ed1ede9"
      },
      "source": [
        "flat_data=[]\n",
        "url=input('enter your URL:')\n",
        "img=imread(url)\n",
        "img_resized=resize(img,(150,150,3))\n",
        "flat_data.append(img_resized.flatten())\n",
        "flat_data=np.array(flat_data)\n",
        "print(img.shape)\n",
        "y_out=model.predict(flat_data)\n",
        "y_out=categories[y_out[0]]\n",
        "print(f'predicted output:{y_out}')"
      ],
      "execution_count": null,
      "outputs": [
        {
          "output_type": "stream",
          "text": [
            "enter your URL:https://sc01.alicdn.com/kf/HTB1GA78dIic_eJjSZFnq6xVwVXa8/202607596/HTB1GA78dIic_eJjSZFnq6xVwVXa8.jpg\n",
            "(862, 1460, 3)\n",
            "predicted output:truck\n"
          ],
          "name": "stdout"
        }
      ]
    },
    {
      "cell_type": "code",
      "metadata": {
        "colab": {
          "base_uri": "https://localhost:8080/"
        },
        "id": "iilGx4NdAAiE",
        "outputId": "8f6ab56c-fff1-4373-ea25-80c6b8de77a9"
      },
      "source": [
        "!pip install streamlit\n",
        "\n",
        "!pip install pyngrok\n",
        "from pyngrok import ngrok as ngrok"
      ],
      "execution_count": 3,
      "outputs": [
        {
          "output_type": "stream",
          "text": [
            "Requirement already satisfied: streamlit in /usr/local/lib/python3.7/dist-packages (0.84.0)\n",
            "Requirement already satisfied: click<8.0,>=7.0 in /usr/local/lib/python3.7/dist-packages (from streamlit) (7.1.2)\n",
            "Requirement already satisfied: gitpython in /usr/local/lib/python3.7/dist-packages (from streamlit) (3.1.18)\n",
            "Requirement already satisfied: altair>=3.2.0 in /usr/local/lib/python3.7/dist-packages (from streamlit) (4.1.0)\n",
            "Requirement already satisfied: attrs in /usr/local/lib/python3.7/dist-packages (from streamlit) (21.2.0)\n",
            "Requirement already satisfied: validators in /usr/local/lib/python3.7/dist-packages (from streamlit) (0.18.2)\n",
            "Requirement already satisfied: base58 in /usr/local/lib/python3.7/dist-packages (from streamlit) (2.1.0)\n",
            "Requirement already satisfied: toml in /usr/local/lib/python3.7/dist-packages (from streamlit) (0.10.2)\n",
            "Requirement already satisfied: python-dateutil in /usr/local/lib/python3.7/dist-packages (from streamlit) (2.8.1)\n",
            "Requirement already satisfied: packaging in /usr/local/lib/python3.7/dist-packages (from streamlit) (20.9)\n",
            "Requirement already satisfied: astor in /usr/local/lib/python3.7/dist-packages (from streamlit) (0.8.1)\n",
            "Requirement already satisfied: protobuf!=3.11,>=3.6.0 in /usr/local/lib/python3.7/dist-packages (from streamlit) (3.17.3)\n",
            "Requirement already satisfied: tornado>=5.0 in /usr/local/lib/python3.7/dist-packages (from streamlit) (5.1.1)\n",
            "Requirement already satisfied: cachetools>=4.0 in /usr/local/lib/python3.7/dist-packages (from streamlit) (4.2.2)\n",
            "Requirement already satisfied: numpy in /usr/local/lib/python3.7/dist-packages (from streamlit) (1.19.5)\n",
            "Requirement already satisfied: pyarrow; python_version < \"3.9\" in /usr/local/lib/python3.7/dist-packages (from streamlit) (3.0.0)\n",
            "Requirement already satisfied: watchdog; platform_system != \"Darwin\" in /usr/local/lib/python3.7/dist-packages (from streamlit) (2.1.3)\n",
            "Requirement already satisfied: pydeck>=0.1.dev5 in /usr/local/lib/python3.7/dist-packages (from streamlit) (0.6.2)\n",
            "Requirement already satisfied: blinker in /usr/local/lib/python3.7/dist-packages (from streamlit) (1.4)\n",
            "Requirement already satisfied: tzlocal in /usr/local/lib/python3.7/dist-packages (from streamlit) (1.5.1)\n",
            "Requirement already satisfied: pandas>=0.21.0 in /usr/local/lib/python3.7/dist-packages (from streamlit) (1.1.5)\n",
            "Requirement already satisfied: pillow>=6.2.0 in /usr/local/lib/python3.7/dist-packages (from streamlit) (7.1.2)\n",
            "Requirement already satisfied: requests in /usr/local/lib/python3.7/dist-packages (from streamlit) (2.23.0)\n",
            "Requirement already satisfied: typing-extensions>=3.7.4.0; python_version < \"3.8\" in /usr/local/lib/python3.7/dist-packages (from gitpython->streamlit) (3.7.4.3)\n",
            "Requirement already satisfied: gitdb<5,>=4.0.1 in /usr/local/lib/python3.7/dist-packages (from gitpython->streamlit) (4.0.7)\n",
            "Requirement already satisfied: entrypoints in /usr/local/lib/python3.7/dist-packages (from altair>=3.2.0->streamlit) (0.3)\n",
            "Requirement already satisfied: toolz in /usr/local/lib/python3.7/dist-packages (from altair>=3.2.0->streamlit) (0.11.1)\n",
            "Requirement already satisfied: jinja2 in /usr/local/lib/python3.7/dist-packages (from altair>=3.2.0->streamlit) (2.11.3)\n",
            "Requirement already satisfied: jsonschema in /usr/local/lib/python3.7/dist-packages (from altair>=3.2.0->streamlit) (2.6.0)\n",
            "Requirement already satisfied: six>=1.4.0 in /usr/local/lib/python3.7/dist-packages (from validators->streamlit) (1.15.0)\n",
            "Requirement already satisfied: decorator>=3.4.0 in /usr/local/lib/python3.7/dist-packages (from validators->streamlit) (4.4.2)\n",
            "Requirement already satisfied: pyparsing>=2.0.2 in /usr/local/lib/python3.7/dist-packages (from packaging->streamlit) (2.4.7)\n",
            "Requirement already satisfied: traitlets>=4.3.2 in /usr/local/lib/python3.7/dist-packages (from pydeck>=0.1.dev5->streamlit) (5.0.5)\n",
            "Requirement already satisfied: ipykernel>=5.1.2; python_version >= \"3.4\" in /usr/local/lib/python3.7/dist-packages (from pydeck>=0.1.dev5->streamlit) (6.0.1)\n",
            "Requirement already satisfied: ipywidgets>=7.0.0 in /usr/local/lib/python3.7/dist-packages (from pydeck>=0.1.dev5->streamlit) (7.6.3)\n",
            "Requirement already satisfied: pytz in /usr/local/lib/python3.7/dist-packages (from tzlocal->streamlit) (2018.9)\n",
            "Requirement already satisfied: certifi>=2017.4.17 in /usr/local/lib/python3.7/dist-packages (from requests->streamlit) (2021.5.30)\n",
            "Requirement already satisfied: idna<3,>=2.5 in /usr/local/lib/python3.7/dist-packages (from requests->streamlit) (2.10)\n",
            "Requirement already satisfied: urllib3!=1.25.0,!=1.25.1,<1.26,>=1.21.1 in /usr/local/lib/python3.7/dist-packages (from requests->streamlit) (1.24.3)\n",
            "Requirement already satisfied: chardet<4,>=3.0.2 in /usr/local/lib/python3.7/dist-packages (from requests->streamlit) (3.0.4)\n",
            "Requirement already satisfied: smmap<5,>=3.0.1 in /usr/local/lib/python3.7/dist-packages (from gitdb<5,>=4.0.1->gitpython->streamlit) (4.0.0)\n",
            "Requirement already satisfied: MarkupSafe>=0.23 in /usr/local/lib/python3.7/dist-packages (from jinja2->altair>=3.2.0->streamlit) (2.0.1)\n",
            "Requirement already satisfied: ipython-genutils in /usr/local/lib/python3.7/dist-packages (from traitlets>=4.3.2->pydeck>=0.1.dev5->streamlit) (0.2.0)\n",
            "Requirement already satisfied: debugpy>=1.0.0 in /usr/local/lib/python3.7/dist-packages (from ipykernel>=5.1.2; python_version >= \"3.4\"->pydeck>=0.1.dev5->streamlit) (1.0.0)\n",
            "Requirement already satisfied: ipython>=7.23.1 in /usr/local/lib/python3.7/dist-packages (from ipykernel>=5.1.2; python_version >= \"3.4\"->pydeck>=0.1.dev5->streamlit) (7.25.0)\n",
            "Requirement already satisfied: jupyter-client in /usr/local/lib/python3.7/dist-packages (from ipykernel>=5.1.2; python_version >= \"3.4\"->pydeck>=0.1.dev5->streamlit) (5.3.5)\n",
            "Requirement already satisfied: importlib-metadata<4; python_version < \"3.8.0\" in /usr/local/lib/python3.7/dist-packages (from ipykernel>=5.1.2; python_version >= \"3.4\"->pydeck>=0.1.dev5->streamlit) (3.10.1)\n",
            "Requirement already satisfied: jupyterlab-widgets>=1.0.0; python_version >= \"3.6\" in /usr/local/lib/python3.7/dist-packages (from ipywidgets>=7.0.0->pydeck>=0.1.dev5->streamlit) (1.0.0)\n",
            "Requirement already satisfied: widgetsnbextension~=3.5.0 in /usr/local/lib/python3.7/dist-packages (from ipywidgets>=7.0.0->pydeck>=0.1.dev5->streamlit) (3.5.1)\n",
            "Requirement already satisfied: nbformat>=4.2.0 in /usr/local/lib/python3.7/dist-packages (from ipywidgets>=7.0.0->pydeck>=0.1.dev5->streamlit) (5.1.3)\n",
            "Requirement already satisfied: matplotlib-inline in /usr/local/lib/python3.7/dist-packages (from ipython>=7.23.1->ipykernel>=5.1.2; python_version >= \"3.4\"->pydeck>=0.1.dev5->streamlit) (0.1.2)\n",
            "Requirement already satisfied: pexpect>4.3; sys_platform != \"win32\" in /usr/local/lib/python3.7/dist-packages (from ipython>=7.23.1->ipykernel>=5.1.2; python_version >= \"3.4\"->pydeck>=0.1.dev5->streamlit) (4.8.0)\n",
            "Requirement already satisfied: pygments in /usr/local/lib/python3.7/dist-packages (from ipython>=7.23.1->ipykernel>=5.1.2; python_version >= \"3.4\"->pydeck>=0.1.dev5->streamlit) (2.6.1)\n",
            "Requirement already satisfied: jedi>=0.16 in /usr/local/lib/python3.7/dist-packages (from ipython>=7.23.1->ipykernel>=5.1.2; python_version >= \"3.4\"->pydeck>=0.1.dev5->streamlit) (0.18.0)\n",
            "Requirement already satisfied: prompt-toolkit!=3.0.0,!=3.0.1,<3.1.0,>=2.0.0 in /usr/local/lib/python3.7/dist-packages (from ipython>=7.23.1->ipykernel>=5.1.2; python_version >= \"3.4\"->pydeck>=0.1.dev5->streamlit) (3.0.19)\n",
            "Requirement already satisfied: backcall in /usr/local/lib/python3.7/dist-packages (from ipython>=7.23.1->ipykernel>=5.1.2; python_version >= \"3.4\"->pydeck>=0.1.dev5->streamlit) (0.2.0)\n",
            "Requirement already satisfied: setuptools>=18.5 in /usr/local/lib/python3.7/dist-packages (from ipython>=7.23.1->ipykernel>=5.1.2; python_version >= \"3.4\"->pydeck>=0.1.dev5->streamlit) (57.0.0)\n",
            "Requirement already satisfied: pickleshare in /usr/local/lib/python3.7/dist-packages (from ipython>=7.23.1->ipykernel>=5.1.2; python_version >= \"3.4\"->pydeck>=0.1.dev5->streamlit) (0.7.5)\n",
            "Requirement already satisfied: jupyter-core>=4.6.0 in /usr/local/lib/python3.7/dist-packages (from jupyter-client->ipykernel>=5.1.2; python_version >= \"3.4\"->pydeck>=0.1.dev5->streamlit) (4.7.1)\n",
            "Requirement already satisfied: pyzmq>=13 in /usr/local/lib/python3.7/dist-packages (from jupyter-client->ipykernel>=5.1.2; python_version >= \"3.4\"->pydeck>=0.1.dev5->streamlit) (22.1.0)\n",
            "Requirement already satisfied: zipp>=0.5 in /usr/local/lib/python3.7/dist-packages (from importlib-metadata<4; python_version < \"3.8.0\"->ipykernel>=5.1.2; python_version >= \"3.4\"->pydeck>=0.1.dev5->streamlit) (3.4.1)\n",
            "Requirement already satisfied: notebook>=4.4.1 in /usr/local/lib/python3.7/dist-packages (from widgetsnbextension~=3.5.0->ipywidgets>=7.0.0->pydeck>=0.1.dev5->streamlit) (5.3.1)\n",
            "Requirement already satisfied: ptyprocess>=0.5 in /usr/local/lib/python3.7/dist-packages (from pexpect>4.3; sys_platform != \"win32\"->ipython>=7.23.1->ipykernel>=5.1.2; python_version >= \"3.4\"->pydeck>=0.1.dev5->streamlit) (0.7.0)\n",
            "Requirement already satisfied: parso<0.9.0,>=0.8.0 in /usr/local/lib/python3.7/dist-packages (from jedi>=0.16->ipython>=7.23.1->ipykernel>=5.1.2; python_version >= \"3.4\"->pydeck>=0.1.dev5->streamlit) (0.8.2)\n",
            "Requirement already satisfied: wcwidth in /usr/local/lib/python3.7/dist-packages (from prompt-toolkit!=3.0.0,!=3.0.1,<3.1.0,>=2.0.0->ipython>=7.23.1->ipykernel>=5.1.2; python_version >= \"3.4\"->pydeck>=0.1.dev5->streamlit) (0.2.5)\n",
            "Requirement already satisfied: nbconvert in /usr/local/lib/python3.7/dist-packages (from notebook>=4.4.1->widgetsnbextension~=3.5.0->ipywidgets>=7.0.0->pydeck>=0.1.dev5->streamlit) (5.6.1)\n",
            "Requirement already satisfied: terminado>=0.8.1 in /usr/local/lib/python3.7/dist-packages (from notebook>=4.4.1->widgetsnbextension~=3.5.0->ipywidgets>=7.0.0->pydeck>=0.1.dev5->streamlit) (0.10.1)\n",
            "Requirement already satisfied: Send2Trash in /usr/local/lib/python3.7/dist-packages (from notebook>=4.4.1->widgetsnbextension~=3.5.0->ipywidgets>=7.0.0->pydeck>=0.1.dev5->streamlit) (1.7.1)\n",
            "Requirement already satisfied: pandocfilters>=1.4.1 in /usr/local/lib/python3.7/dist-packages (from nbconvert->notebook>=4.4.1->widgetsnbextension~=3.5.0->ipywidgets>=7.0.0->pydeck>=0.1.dev5->streamlit) (1.4.3)\n",
            "Requirement already satisfied: testpath in /usr/local/lib/python3.7/dist-packages (from nbconvert->notebook>=4.4.1->widgetsnbextension~=3.5.0->ipywidgets>=7.0.0->pydeck>=0.1.dev5->streamlit) (0.5.0)\n",
            "Requirement already satisfied: mistune<2,>=0.8.1 in /usr/local/lib/python3.7/dist-packages (from nbconvert->notebook>=4.4.1->widgetsnbextension~=3.5.0->ipywidgets>=7.0.0->pydeck>=0.1.dev5->streamlit) (0.8.4)\n",
            "Requirement already satisfied: bleach in /usr/local/lib/python3.7/dist-packages (from nbconvert->notebook>=4.4.1->widgetsnbextension~=3.5.0->ipywidgets>=7.0.0->pydeck>=0.1.dev5->streamlit) (3.3.0)\n",
            "Requirement already satisfied: defusedxml in /usr/local/lib/python3.7/dist-packages (from nbconvert->notebook>=4.4.1->widgetsnbextension~=3.5.0->ipywidgets>=7.0.0->pydeck>=0.1.dev5->streamlit) (0.7.1)\n",
            "Requirement already satisfied: webencodings in /usr/local/lib/python3.7/dist-packages (from bleach->nbconvert->notebook>=4.4.1->widgetsnbextension~=3.5.0->ipywidgets>=7.0.0->pydeck>=0.1.dev5->streamlit) (0.5.1)\n",
            "Requirement already satisfied: pyngrok in /usr/local/lib/python3.7/dist-packages (5.0.5)\n",
            "Requirement already satisfied: PyYAML in /usr/local/lib/python3.7/dist-packages (from pyngrok) (3.13)\n"
          ],
          "name": "stdout"
        }
      ]
    },
    {
      "cell_type": "code",
      "metadata": {
        "id": "Ay7MTBPUCGxd",
        "colab": {
          "base_uri": "https://localhost:8080/"
        },
        "outputId": "94bbbc37-acb7-4e87-b0af-96b8e6ffcd10"
      },
      "source": [
        "%%writefile app.py\n",
        "import streamlit as st\n",
        "import numpy as np\n",
        "from skimage.io import imread\n",
        "from skimage.transform import resize\n",
        "import pickle\n",
        "from PIL import Image\n",
        "st.title('Image Classifier')\n",
        "st.text('Upload Image')\n",
        "\n",
        "model=pickle.load(open('img_model.p','rb'))\n",
        "\n",
        "uploaded_file=st.file_uploader(\"Choose an Image...\", type='jpg')\n",
        "if uploaded_file is not None:\n",
        "  img=Image.open(uploaded_file)\n",
        "  st.image(img,caption='Uploaded Image')\n",
        "\n",
        "  if st.button('PREDICT'):\n",
        "    categories=['truck','car','auto rickshaw']\n",
        "    st.write('Result...')\n",
        "    flat_data=[]\n",
        "    img=np.array(img)\n",
        "    img_resized=resize(img,(150,150,3))\n",
        "    flat_data.append(img_resized.flatten())\n",
        "    flat_data=np.array(flat_data)\n",
        "    y_out=model.predict(flat_data)\n",
        "    y_out=categories[y_out[0]]\n",
        "    st.title(f'predicted output:{y_out}')\n",
        "\n"
      ],
      "execution_count": 4,
      "outputs": [
        {
          "output_type": "stream",
          "text": [
            "Overwriting app.py\n"
          ],
          "name": "stdout"
        }
      ]
    },
    {
      "cell_type": "code",
      "metadata": {
        "id": "MomKzIGkDCVY",
        "colab": {
          "base_uri": "https://localhost:8080/"
        },
        "outputId": "cc3a973b-ab60-4ea8-a61d-7d29325f3b97"
      },
      "source": [
        "!nohup streamlit run app.py &\n",
        "demo_url=ngrok.connect('8501')\n",
        "demo_url\n"
      ],
      "execution_count": 5,
      "outputs": [
        {
          "output_type": "stream",
          "text": [
            "nohup: appending output to 'nohup.out'\n"
          ],
          "name": "stdout"
        },
        {
          "output_type": "execute_result",
          "data": {
            "text/plain": [
              "<NgrokTunnel: \"http://fa3f1bc2246f.ngrok.io\" -> \"http://localhost:8501\">"
            ]
          },
          "metadata": {
            "tags": []
          },
          "execution_count": 5
        }
      ]
    },
    {
      "cell_type": "code",
      "metadata": {
        "id": "XCSPfH-44j_T"
      },
      "source": [
        ""
      ],
      "execution_count": null,
      "outputs": []
    }
  ]
}